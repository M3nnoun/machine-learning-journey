{
  "cells": [
    {
      "cell_type": "markdown",
      "metadata": {
        "id": "view-in-github",
        "colab_type": "text"
      },
      "source": [
        "<a href=\"https://colab.research.google.com/github/M3nnoun/machine-learning-journey/blob/main/iris.ipynb\" target=\"_parent\"><img src=\"https://colab.research.google.com/assets/colab-badge.svg\" alt=\"Open In Colab\"/></a>"
      ]
    },
    {
      "cell_type": "code",
      "execution_count": null,
      "metadata": {
        "id": "XjwMcYV_sG7E"
      },
      "outputs": [],
      "source": [
        "import tensorflow as tf\n",
        "from sklearn.datasets import load_iris\n",
        "from sklearn.model_selection import train_test_split\n",
        "\n",
        "# TODO Use as_frame=True\n",
        "X = load_iris().data\n",
        "y = load_iris().target\n",
        "\n",
        "X_train, X_test, y_train, y_test = train_test_split(X, y)\n",
        "\n",
        "train = tf.data.Dataset.from_tensor_slices((X_train, y_train))\n",
        "train = train.repeat().shuffle(1000).batch(32)\n",
        "test = tf.data.Dataset.from_tensor_slices((X_test, y_test)).batch(1)"
      ]
    },
    {
      "cell_type": "code",
      "source": [
        "y_train.shape"
      ],
      "metadata": {
        "id": "f8zhuUJ6uygX"
      },
      "execution_count": null,
      "outputs": []
    },
    {
      "cell_type": "code",
      "execution_count": null,
      "metadata": {
        "id": "LQob_oHcDdgd"
      },
      "outputs": [],
      "source": [
        "model = tf.keras.Sequential([\n",
        "  tf.keras.Input((4,)), #input layer\n",
        "  tf.keras.layers.Dense(10, activation=tf.nn.relu), #hedin layer 01\n",
        "  tf.keras.layers.Dense(10, activation=tf.nn.relu), #hedin layer 02\n",
        "  tf.keras.layers.Dense(3, activation=tf.nn.softmax)\n",
        "])\n",
        "\n",
        "model.compile(optimizer='adam',\n",
        "              loss='sparse_categorical_crossentropy', #this function that use for determine the w\n",
        "              metrics=['accuracy'])"
      ]
    },
    {
      "cell_type": "code",
      "execution_count": null,
      "metadata": {
        "id": "lrmYB_JNsG7M"
      },
      "outputs": [],
      "source": [
        "model.fit(\n",
        "    train,\n",
        "    validation_data=test,\n",
        "    steps_per_epoch=100, ## how we can determine this number\n",
        "    epochs=10, ## how we can determine this number\n",
        ")"
      ]
    },
    {
      "cell_type": "code",
      "execution_count": null,
      "metadata": {
        "id": "sSunuvZIIsog"
      },
      "outputs": [],
      "source": [
        "predict_true_labels = [\"setosa\", \"versicolor\", \"virginica\"]\n",
        "predict_X = [\n",
        "  [5.1, 3.3, 1.7, 0.5],\n",
        "  [5.9, 3.0, 4.2, 1.5],\n",
        "  [6.9, 3.1, 5.4, 2.1],\n",
        "]\n",
        "\n",
        "predictions = model.predict(predict_X)\n",
        "\n",
        "for pred_dict, expected in zip(predictions, predict_true_labels):\n",
        "    predicted_index = pred_dict.argmax()\n",
        "    predicted = load_iris().target_names[predicted_index]\n",
        "    probability = pred_dict.max()\n",
        "    tick_cross = \"✓\" if predicted == expected else \"✗\"\n",
        "    print(f\"{tick_cross} Prediction is '{predicted}' ({100 * probability:.1f}%), expected '{expected}'\")"
      ]
    },
    {
      "cell_type": "code",
      "source": [
        "predictions"
      ],
      "metadata": {
        "id": "Un9mUE-w2C8s"
      },
      "execution_count": null,
      "outputs": []
    },
    {
      "cell_type": "code",
      "source": [],
      "metadata": {
        "id": "zZd1vhCj2FhV"
      },
      "execution_count": null,
      "outputs": []
    }
  ],
  "metadata": {
    "accelerator": "GPU",
    "colab": {
      "name": "iris.ipynb",
      "private_outputs": true,
      "provenance": [],
      "include_colab_link": true
    },
    "kernelspec": {
      "display_name": "Python 3",
      "language": "python",
      "name": "python3"
    },
    "language_info": {
      "codemirror_mode": {
        "name": "ipython",
        "version": 3
      },
      "file_extension": ".py",
      "mimetype": "text/x-python",
      "name": "python",
      "nbconvert_exporter": "python",
      "pygments_lexer": "ipython3",
      "version": "3.8.3"
    }
  },
  "nbformat": 4,
  "nbformat_minor": 0
}